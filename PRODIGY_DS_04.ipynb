{
 "cells": [
  {
   "cell_type": "markdown",
   "id": "796df23a-4743-4d62-99a9-cf1bd327944b",
   "metadata": {},
   "source": [
    "### Task 4\n",
    "#### Analyze and visualize sentiment patterns in social media data to understand public opinion and attitudes towards specific topics or brands."
   ]
  },
  {
   "cell_type": "code",
   "execution_count": 1,
   "id": "c466b9d3-139d-4039-affc-a15850cf39f4",
   "metadata": {},
   "outputs": [],
   "source": [
    "import numpy as np\n",
    "import pandas as pd\n",
    "import matplotlib.pyplot as plt\n",
    "import seaborn as sns\n",
    "import warnings\n",
    "warnings.filterwarnings('ignore')\n",
    "import os"
   ]
  },
  {
   "cell_type": "code",
   "execution_count": 8,
   "id": "c643d0ee-8d6a-4f78-ae21-3dbaf0e89a68",
   "metadata": {},
   "outputs": [],
   "source": [
    "df_train= pd.read_csv(r'C:\\Users\\Yadhnesh\\Dropbox\\PC\\Downloads\\twitter_training.csv')"
   ]
  },
  {
   "cell_type": "code",
   "execution_count": 9,
   "id": "648dbb6d-5ca5-47ce-828c-6edbf3561308",
   "metadata": {},
   "outputs": [
    {
     "data": {
      "text/html": [
       "<div>\n",
       "<style scoped>\n",
       "    .dataframe tbody tr th:only-of-type {\n",
       "        vertical-align: middle;\n",
       "    }\n",
       "\n",
       "    .dataframe tbody tr th {\n",
       "        vertical-align: top;\n",
       "    }\n",
       "\n",
       "    .dataframe thead th {\n",
       "        text-align: right;\n",
       "    }\n",
       "</style>\n",
       "<table border=\"1\" class=\"dataframe\">\n",
       "  <thead>\n",
       "    <tr style=\"text-align: right;\">\n",
       "      <th></th>\n",
       "      <th>2401</th>\n",
       "      <th>Borderlands</th>\n",
       "      <th>Positive</th>\n",
       "      <th>im getting on borderlands and i will murder you all ,</th>\n",
       "    </tr>\n",
       "  </thead>\n",
       "  <tbody>\n",
       "    <tr>\n",
       "      <th>0</th>\n",
       "      <td>2401</td>\n",
       "      <td>Borderlands</td>\n",
       "      <td>Positive</td>\n",
       "      <td>I am coming to the borders and I will kill you...</td>\n",
       "    </tr>\n",
       "    <tr>\n",
       "      <th>1</th>\n",
       "      <td>2401</td>\n",
       "      <td>Borderlands</td>\n",
       "      <td>Positive</td>\n",
       "      <td>im getting on borderlands and i will kill you ...</td>\n",
       "    </tr>\n",
       "    <tr>\n",
       "      <th>2</th>\n",
       "      <td>2401</td>\n",
       "      <td>Borderlands</td>\n",
       "      <td>Positive</td>\n",
       "      <td>im coming on borderlands and i will murder you...</td>\n",
       "    </tr>\n",
       "    <tr>\n",
       "      <th>3</th>\n",
       "      <td>2401</td>\n",
       "      <td>Borderlands</td>\n",
       "      <td>Positive</td>\n",
       "      <td>im getting on borderlands 2 and i will murder ...</td>\n",
       "    </tr>\n",
       "    <tr>\n",
       "      <th>4</th>\n",
       "      <td>2401</td>\n",
       "      <td>Borderlands</td>\n",
       "      <td>Positive</td>\n",
       "      <td>im getting into borderlands and i can murder y...</td>\n",
       "    </tr>\n",
       "    <tr>\n",
       "      <th>...</th>\n",
       "      <td>...</td>\n",
       "      <td>...</td>\n",
       "      <td>...</td>\n",
       "      <td>...</td>\n",
       "    </tr>\n",
       "    <tr>\n",
       "      <th>74676</th>\n",
       "      <td>9200</td>\n",
       "      <td>Nvidia</td>\n",
       "      <td>Positive</td>\n",
       "      <td>Just realized that the Windows partition of my...</td>\n",
       "    </tr>\n",
       "    <tr>\n",
       "      <th>74677</th>\n",
       "      <td>9200</td>\n",
       "      <td>Nvidia</td>\n",
       "      <td>Positive</td>\n",
       "      <td>Just realized that my Mac window partition is ...</td>\n",
       "    </tr>\n",
       "    <tr>\n",
       "      <th>74678</th>\n",
       "      <td>9200</td>\n",
       "      <td>Nvidia</td>\n",
       "      <td>Positive</td>\n",
       "      <td>Just realized the windows partition of my Mac ...</td>\n",
       "    </tr>\n",
       "    <tr>\n",
       "      <th>74679</th>\n",
       "      <td>9200</td>\n",
       "      <td>Nvidia</td>\n",
       "      <td>Positive</td>\n",
       "      <td>Just realized between the windows partition of...</td>\n",
       "    </tr>\n",
       "    <tr>\n",
       "      <th>74680</th>\n",
       "      <td>9200</td>\n",
       "      <td>Nvidia</td>\n",
       "      <td>Positive</td>\n",
       "      <td>Just like the windows partition of my Mac is l...</td>\n",
       "    </tr>\n",
       "  </tbody>\n",
       "</table>\n",
       "<p>74681 rows × 4 columns</p>\n",
       "</div>"
      ],
      "text/plain": [
       "       2401  Borderlands  Positive  \\\n",
       "0      2401  Borderlands  Positive   \n",
       "1      2401  Borderlands  Positive   \n",
       "2      2401  Borderlands  Positive   \n",
       "3      2401  Borderlands  Positive   \n",
       "4      2401  Borderlands  Positive   \n",
       "...     ...          ...       ...   \n",
       "74676  9200       Nvidia  Positive   \n",
       "74677  9200       Nvidia  Positive   \n",
       "74678  9200       Nvidia  Positive   \n",
       "74679  9200       Nvidia  Positive   \n",
       "74680  9200       Nvidia  Positive   \n",
       "\n",
       "      im getting on borderlands and i will murder you all ,  \n",
       "0      I am coming to the borders and I will kill you...     \n",
       "1      im getting on borderlands and i will kill you ...     \n",
       "2      im coming on borderlands and i will murder you...     \n",
       "3      im getting on borderlands 2 and i will murder ...     \n",
       "4      im getting into borderlands and i can murder y...     \n",
       "...                                                  ...     \n",
       "74676  Just realized that the Windows partition of my...     \n",
       "74677  Just realized that my Mac window partition is ...     \n",
       "74678  Just realized the windows partition of my Mac ...     \n",
       "74679  Just realized between the windows partition of...     \n",
       "74680  Just like the windows partition of my Mac is l...     \n",
       "\n",
       "[74681 rows x 4 columns]"
      ]
     },
     "execution_count": 9,
     "metadata": {},
     "output_type": "execute_result"
    }
   ],
   "source": [
    "df_train"
   ]
  },
  {
   "cell_type": "code",
   "execution_count": 10,
   "id": "dfa63009-420b-4088-900d-5a1a582280e2",
   "metadata": {},
   "outputs": [
    {
     "data": {
      "text/plain": [
       "(74681, 4)"
      ]
     },
     "execution_count": 10,
     "metadata": {},
     "output_type": "execute_result"
    }
   ],
   "source": [
    "df_train.shape"
   ]
  },
  {
   "cell_type": "code",
   "execution_count": 11,
   "id": "b0bdcf89-1daa-48f6-b708-c0ffc2b644a4",
   "metadata": {},
   "outputs": [
    {
     "data": {
      "text/plain": [
       "Index(['2401', 'Borderlands', 'Positive',\n",
       "       'im getting on borderlands and i will murder you all ,'],\n",
       "      dtype='object')"
      ]
     },
     "execution_count": 11,
     "metadata": {},
     "output_type": "execute_result"
    }
   ],
   "source": [
    "df_train.columns"
   ]
  },
  {
   "cell_type": "code",
   "execution_count": 12,
   "id": "77375fd3-1f7d-489c-a023-3592202282ad",
   "metadata": {},
   "outputs": [
    {
     "name": "stdout",
     "output_type": "stream",
     "text": [
      "<class 'pandas.core.frame.DataFrame'>\n",
      "RangeIndex: 74681 entries, 0 to 74680\n",
      "Data columns (total 4 columns):\n",
      " #   Column                                                 Non-Null Count  Dtype \n",
      "---  ------                                                 --------------  ----- \n",
      " 0   2401                                                   74681 non-null  int64 \n",
      " 1   Borderlands                                            74681 non-null  object\n",
      " 2   Positive                                               74681 non-null  object\n",
      " 3   im getting on borderlands and i will murder you all ,  73995 non-null  object\n",
      "dtypes: int64(1), object(3)\n",
      "memory usage: 2.3+ MB\n"
     ]
    }
   ],
   "source": [
    "df_train.info()"
   ]
  },
  {
   "cell_type": "code",
   "execution_count": 13,
   "id": "9f4a7094-c602-4a0b-b3d5-95cf00c321fa",
   "metadata": {},
   "outputs": [
    {
     "data": {
      "text/plain": [
       "2401                                                      int64\n",
       "Borderlands                                              object\n",
       "Positive                                                 object\n",
       "im getting on borderlands and i will murder you all ,    object\n",
       "dtype: object"
      ]
     },
     "execution_count": 13,
     "metadata": {},
     "output_type": "execute_result"
    }
   ],
   "source": [
    "df_train.dtypes"
   ]
  },
  {
   "cell_type": "code",
   "execution_count": 14,
   "id": "61eb8c1c-921c-41c8-a45b-004573e80a02",
   "metadata": {},
   "outputs": [
    {
     "data": {
      "text/plain": [
       "2401                                                       0\n",
       "Borderlands                                                0\n",
       "Positive                                                   0\n",
       "im getting on borderlands and i will murder you all ,    686\n",
       "dtype: int64"
      ]
     },
     "execution_count": 14,
     "metadata": {},
     "output_type": "execute_result"
    }
   ],
   "source": [
    "df_train.isnull().sum()"
   ]
  },
  {
   "cell_type": "code",
   "execution_count": 16,
   "id": "d320a673-3a6f-4f99-ab0e-3966a539e3f4",
   "metadata": {},
   "outputs": [],
   "source": [
    "df_train.dropna(subset=['im getting on borderlands and i will murder you all ,'] , inplace=True)"
   ]
  },
  {
   "cell_type": "code",
   "execution_count": 17,
   "id": "1fae3667-6b1b-4670-8316-de7f5999d659",
   "metadata": {},
   "outputs": [
    {
     "data": {
      "text/plain": [
       "(73995, 4)"
      ]
     },
     "execution_count": 17,
     "metadata": {},
     "output_type": "execute_result"
    }
   ],
   "source": [
    "df_train.shape"
   ]
  },
  {
   "cell_type": "code",
   "execution_count": 18,
   "id": "7e913c30-ca06-4048-94aa-86f6fd5b2ce0",
   "metadata": {},
   "outputs": [
    {
     "data": {
      "text/plain": [
       "array(['Positive', 'Neutral', 'Negative', 'Irrelevant'], dtype=object)"
      ]
     },
     "execution_count": 18,
     "metadata": {},
     "output_type": "execute_result"
    }
   ],
   "source": [
    "df_train.Positive.unique()"
   ]
  },
  {
   "cell_type": "code",
   "execution_count": 24,
   "id": "c7dd9937-5edb-4b3a-a969-3ed130a9b19e",
   "metadata": {},
   "outputs": [],
   "source": [
    "df_train.Positive=df_train.Positive.replace('Irrelevant' , 'Neutral')\n"
   ]
  },
  {
   "cell_type": "code",
   "execution_count": 25,
   "id": "2f3a50f0-2e1a-47fe-8a96-f12530dcf237",
   "metadata": {},
   "outputs": [
    {
     "data": {
      "text/plain": [
       "array(['Positive', 'Neutral', 'Negative'], dtype=object)"
      ]
     },
     "execution_count": 25,
     "metadata": {},
     "output_type": "execute_result"
    }
   ],
   "source": [
    "df_train.Positive.unique()"
   ]
  },
  {
   "cell_type": "markdown",
   "id": "877d4957-d5ad-4c92-94a9-752b2e6a4539",
   "metadata": {},
   "source": [
    "### Exploratory Data Analysis"
   ]
  },
  {
   "cell_type": "code",
   "execution_count": 26,
   "id": "9e4e47e7-cba9-4435-9486-48c5eb4edd89",
   "metadata": {},
   "outputs": [
    {
     "data": {
      "text/plain": [
       "Positive\n",
       "Neutral     30983\n",
       "Negative    22358\n",
       "Positive    20654\n",
       "Name: count, dtype: int64"
      ]
     },
     "execution_count": 26,
     "metadata": {},
     "output_type": "execute_result"
    }
   ],
   "source": [
    "Positive_count=df_train.Positive.value_counts()\n",
    "Positive_count"
   ]
  },
  {
   "cell_type": "code",
   "execution_count": 27,
   "id": "ebeb329c-fe23-4cf1-a10e-bcb00ced500e",
   "metadata": {},
   "outputs": [
    {
     "data": {
      "image/png": "[encoded data removed]",
      "text/plain": [
       "<Figure size 640x480 with 1 Axes>"
      ]
     },
     "metadata": {},
     "output_type": "display_data"
    }
   ],
   "source": [
    "y=['Neutral' , 'Negative' , 'Positive']\n",
    "plt.pie(Positive_count , labels=y, autopct='%0.1f%%' )\n",
    "circle=plt.Circle((0,0),0.4, facecolor='white')\n",
    "plt.gca().add_patch(circle)\n",
    "plt.legend(bbox_to_anchor=(1.05, 1), loc='upper left')\n",
    "plt.show()"
   ]
  },
  {
   "cell_type": "code",
   "execution_count": 29,
   "id": "afcbdf58-60fd-47c8-bc60-0ea8e8861d9b",
   "metadata": {},
   "outputs": [
    {
     "data": {
      "text/plain": [
       "array(['Borderlands', 'CallOfDutyBlackopsColdWar', 'Amazon', 'Overwatch',\n",
       "       'Xbox(Xseries)', 'NBA2K', 'Dota2', 'PlayStation5(PS5)',\n",
       "       'WorldOfCraft', 'CS-GO', 'Google', 'AssassinsCreed', 'ApexLegends',\n",
       "       'LeagueOfLegends', 'Fortnite', 'Microsoft', 'Hearthstone',\n",
       "       'Battlefield', 'PlayerUnknownsBattlegrounds(PUBG)', 'Verizon',\n",
       "       'HomeDepot', 'FIFA', 'RedDeadRedemption(RDR)', 'CallOfDuty',\n",
       "       'TomClancysRainbowSix', 'Facebook', 'GrandTheftAuto(GTA)',\n",
       "       'MaddenNFL', 'johnson&johnson', 'Cyberpunk2077',\n",
       "       'TomClancysGhostRecon', 'Nvidia'], dtype=object)"
      ]
     },
     "execution_count": 29,
     "metadata": {},
     "output_type": "execute_result"
    }
   ],
   "source": [
    "df_train.Borderlands.unique()"
   ]
  },
  {
   "cell_type": "code",
   "execution_count": 30,
   "id": "f75175c7-56d5-4f31-bd7c-3d1f318a7514",
   "metadata": {},
   "outputs": [
    {
     "data": {
      "text/plain": [
       "Borderlands\n",
       "LeagueOfLegends                      2377\n",
       "MaddenNFL                            2377\n",
       "CallOfDuty                           2376\n",
       "Verizon                              2365\n",
       "TomClancysRainbowSix                 2364\n",
       "Facebook                             2362\n",
       "Microsoft                            2361\n",
       "Dota2                                2359\n",
       "WorldOfCraft                         2357\n",
       "ApexLegends                          2353\n",
       "NBA2K                                2343\n",
       "CallOfDutyBlackopsColdWar            2343\n",
       "johnson&johnson                      2324\n",
       "FIFA                                 2324\n",
       "TomClancysGhostRecon                 2321\n",
       "Overwatch                            2316\n",
       "Battlefield                          2316\n",
       "GrandTheftAuto(GTA)                  2293\n",
       "HomeDepot                            2292\n",
       "PlayStation5(PS5)                    2291\n",
       "Hearthstone                          2286\n",
       "CS-GO                                2284\n",
       "Xbox(Xseries)                        2283\n",
       "Borderlands                          2279\n",
       "Amazon                               2276\n",
       "Google                               2274\n",
       "Nvidia                               2271\n",
       "Cyberpunk2077                        2262\n",
       "RedDeadRedemption(RDR)               2249\n",
       "Fortnite                             2249\n",
       "AssassinsCreed                       2234\n",
       "PlayerUnknownsBattlegrounds(PUBG)    2234\n",
       "Name: count, dtype: int64"
      ]
     },
     "execution_count": 30,
     "metadata": {},
     "output_type": "execute_result"
    }
   ],
   "source": [
    "Entity_count=df_train.Borderlands.value_counts()\n",
    "Entity_count"
   ]
  },
  {
   "cell_type": "code",
   "execution_count": 31,
   "id": "9bc7fd65-0a88-40f9-9ca6-b9849dd15d0b",
   "metadata": {},
   "outputs": [],
   "source": [
    "Entity_sort=Entity_count.sort_values(ascending=False)"
   ]
  },
  {
   "cell_type": "code",
   "execution_count": 32,
   "id": "218cdae4-60b8-4ff5-89e8-d6460aef3d19",
   "metadata": {},
   "outputs": [
    {
     "data": {
      "text/plain": [
       "Borderlands\n",
       "LeagueOfLegends         2377\n",
       "MaddenNFL               2377\n",
       "CallOfDuty              2376\n",
       "Verizon                 2365\n",
       "TomClancysRainbowSix    2364\n",
       "Facebook                2362\n",
       "Microsoft               2361\n",
       "Dota2                   2359\n",
       "WorldOfCraft            2357\n",
       "ApexLegends             2353\n",
       "Name: count, dtype: int64"
      ]
     },
     "execution_count": 32,
     "metadata": {},
     "output_type": "execute_result"
    }
   ],
   "source": [
    "Entity_top10=Entity_sort.head(10)\n",
    "Entity_top10"
   ]
  },
  {
   "cell_type": "code",
   "execution_count": 33,
   "id": "a69d5657-d694-4750-a025-029428e680a0",
   "metadata": {},
   "outputs": [],
   "source": [
    "Entity_index=Entity_top10.index"
   ]
  },
  {
   "cell_type": "code",
   "execution_count": 41,
   "id": "a8570120-d426-4159-9802-2624592301fe",
   "metadata": {},
   "outputs": [
    {
     "data": {
      "image/png": "[encoded data removed]",
      "text/plain": [
       "<Figure size 1000x300 with 1 Axes>"
      ]
     },
     "metadata": {},
     "output_type": "display_data"
    }
   ],
   "source": [
    "plt.figure(figsize=(10,3))\n",
    "\n",
    "x=['ApexLegends' , 'WorldOfCraft' , 'Dota2' , 'Microsoft' , 'Facebook' , 'TomClancysRainbowSix' , 'Verizon' , 'CallOfDuty' , 'LeagueOfLegends' , 'MaddenNFL']\n",
    "y=[2353,2357,2359,2361,2362,2364,2365,2367,2377,2377]\n",
    "\n",
    "plt.bar( x , y , alpha=0.7 , color='#A2625D')\n",
    "\n",
    "for i,v in enumerate(y):\n",
    "    plt.text(i,v,str(v),ha='center',weight='bold' )\n",
    "\n",
    "plt.xticks(rotation=45)\n",
    "plt.xlabel('Entity')\n",
    "plt.ylabel('Number of Post in twitter')\n",
    "plt.show()"
   ]
  },
  {
   "cell_type": "code",
   "execution_count": 42,
   "id": "2e3772d7-f21d-476c-a3e5-a16a3899c5c0",
   "metadata": {},
   "outputs": [
    {
     "data": {
      "text/plain": [
       "Borderlands\n",
       "LeagueOfLegends    2377\n",
       "MaddenNFL          2377\n",
       "CallOfDuty         2376\n",
       "Name: count, dtype: int64"
      ]
     },
     "execution_count": 42,
     "metadata": {},
     "output_type": "execute_result"
    }
   ],
   "source": [
    "Entity_top3_df=Entity_sort.head(3)\n",
    "Entity_top3_df"
   ]
  },
  {
   "cell_type": "code",
   "execution_count": 43,
   "id": "da17d740-b36d-4e8e-9045-1f5dccadb60d",
   "metadata": {},
   "outputs": [
    {
     "data": {
      "text/plain": [
       "['LeagueOfLegends', 'MaddenNFL', 'CallOfDuty']"
      ]
     },
     "execution_count": 43,
     "metadata": {},
     "output_type": "execute_result"
    }
   ],
   "source": [
    "Entity_top3=Entity_top3_df.index.tolist()\n",
    "Entity_top3"
   ]
  },
  {
   "cell_type": "code",
   "execution_count": 44,
   "id": "f023d4dc-b7ee-4042-8c32-28eb589a5f95",
   "metadata": {},
   "outputs": [
    {
     "data": {
      "text/plain": [
       "Borderlands      Positive\n",
       "CallOfDuty       Negative     883\n",
       "                 Neutral     1047\n",
       "                 Positive     446\n",
       "LeagueOfLegends  Negative     632\n",
       "                 Neutral     1130\n",
       "                 Positive     615\n",
       "MaddenNFL        Negative    1694\n",
       "                 Neutral      287\n",
       "                 Positive     396\n",
       "Name: count, dtype: int64"
      ]
     },
     "execution_count": 44,
     "metadata": {},
     "output_type": "execute_result"
    }
   ],
   "source": [
    "sentiment_by_entity=df_train.loc[df_train['Borderlands'].isin(Entity_top3)].groupby('Borderlands')['Positive'].value_counts().sort_index()\n",
    "sentiment_by_entity"
   ]
  },
  {
   "cell_type": "code",
   "execution_count": 45,
   "id": "08062d76-f5db-427c-b624-1e38cf8090a5",
   "metadata": {},
   "outputs": [
    {
     "data": {
      "text/plain": [
       "<matplotlib.legend.Legend at 0x20879c37e90>"
      ]
     },
     "execution_count": 45,
     "metadata": {},
     "output_type": "execute_result"
    },
    {
     "data": {
      "image/png": "[encoded data removed]",
      "text/plain": [
       "<Figure size 1000x500 with 3 Axes>"
      ]
     },
     "metadata": {},
     "output_type": "display_data"
    }
   ],
   "source": [
    "plt.figure(figsize=(10,5))\n",
    "\n",
    "y=['Neutral' , 'Negative' , 'Positive']\n",
    "color=['#9C6383' , '#839C63' , '#63839C']\n",
    "\n",
    "plt.subplot(1,3,1)\n",
    "plt.pie(sentiment_by_entity[:3] , labels=y , autopct='%0.1f%%' , textprops={'fontsize':10} , colors=color)\n",
    "\n",
    "plt.subplot(1,3,2)\n",
    "plt.pie(sentiment_by_entity[3:6] , labels=y , autopct='%0.1f%%' , textprops={'fontsize':10} , colors=color)\n",
    "\n",
    "plt.subplot(1,3,3)\n",
    "plt.pie(sentiment_by_entity[6:] , labels=y , autopct='%0.1f%%' , textprops={'fontsize':10} , colors=color)\n",
    "\n",
    "plt.legend(bbox_to_anchor=(1.05, 1), loc='upper left' , fontsize=\"10\")"
   ]
  },
  {
   "cell_type": "code",
   "execution_count": null,
   "id": "4b871976-52ad-41a4-bf96-f36abb6d12af",
   "metadata": {},
   "outputs": [],
   "source": []
  },
  {
   "cell_type": "code",
   "execution_count": null,
   "id": "69f85494-5a25-4c36-b398-5924552c1b65",
   "metadata": {},
   "outputs": [],
   "source": []
  }
 ],
 "metadata": {
  "kernelspec": {
   "display_name": "Python 3 (ipykernel)",
   "language": "python",
   "name": "python3"
  },
  "language_info": {
   "codemirror_mode": {
    "name": "ipython",
    "version": 3
   },
   "file_extension": ".py",
   "mimetype": "text/x-python",
   "name": "python",
   "nbconvert_exporter": "python",
   "pygments_lexer": "ipython3",
   "version": "3.11.9"
  }
 },
 "nbformat": 4,
 "nbformat_minor": 5
}
